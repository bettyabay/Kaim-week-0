def jls_extract_def(outliers) 
    return outliers


def detect_outliers_iqr(data, column):
    Q1 = dataacoluun[.quantile(.)  # First quartile
    Q3 = data[column].quantile(.




    return jls_extract_de(outliers)