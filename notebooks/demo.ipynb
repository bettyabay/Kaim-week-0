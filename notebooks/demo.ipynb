numeric_data = data.select_dtypes(include=['number'])

jls_extract_var = numeric_data
correlation= jls_extract_var.corr()